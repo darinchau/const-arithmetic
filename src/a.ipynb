{
 "cells": [
  {
   "cell_type": "code",
   "execution_count": 13,
   "metadata": {},
   "outputs": [
    {
     "name": "stdout",
     "output_type": "stream",
     "text": [
      "H0::Bit0, H0::Bit1, H0::Bit2, H0::Bit3, H1::Bit0, H1::Bit1, H1::Bit2, H1::Bit3, H2::Bit0, H2::Bit1, H2::Bit2, H2::Bit3, H3::Bit0, H3::Bit1, H3::Bit2, H3::Bit3, H4::Bit0, H4::Bit1, H4::Bit2, H4::Bit3, H5::Bit0, H5::Bit1, H5::Bit2, H5::Bit3, H6::Bit0, H6::Bit1, H6::Bit2, H6::Bit3, H7::Bit0, H7::Bit1, H7::Bit2, H7::Bit3, "
     ]
    }
   ],
   "source": [
    "for i in range(8):\n",
    "    for j in range(4):\n",
    "        print(f\"H{i}::Bit{j}, \", end=\"\")"
   ]
  },
  {
   "cell_type": "code",
   "execution_count": 21,
   "metadata": {},
   "outputs": [
    {
     "name": "stdout",
     "output_type": "stream",
     "text": [
      "Hexme<>, Hexme<>, Hexme<>, Hexme<>, Hexme<>, Hexme<>, Hexme<>, Hexme<>, "
     ]
    }
   ],
   "source": [
    "for i in range(8):\n",
    "    print(\"Hexme<\", end=\"\")\n",
    "    print(\", \".join([f\"B{i*4+j}\" for j in range(4)]), end = \"\")\n",
    "    print(\">, \", end=\"\")"
   ]
  },
  {
   "cell_type": "code",
   "execution_count": 15,
   "metadata": {},
   "outputs": [
    {
     "name": "stdout",
     "output_type": "stream",
     "text": [
      "H0: Hex, H1: Hex, H2: Hex, H3: Hex, H4: Hex, H5: Hex, H6: Hex, H7: Hex, "
     ]
    }
   ],
   "source": [
    "for i in range(8):\n",
    "    print(f\"H{i}: Hex, \", end = \"\")"
   ]
  },
  {
   "cell_type": "code",
   "execution_count": 17,
   "metadata": {},
   "outputs": [
    {
     "name": "stdout",
     "output_type": "stream",
     "text": [
      "type Hexme<_0, _0, _0, _0> = _0; \n",
      "type Hexme<_1, _0, _0, _0> = _1; \n",
      "type Hexme<_0, _1, _0, _0> = _2; \n",
      "type Hexme<_1, _1, _0, _0> = _3; \n",
      "type Hexme<_0, _0, _1, _0> = _4; \n",
      "type Hexme<_1, _0, _1, _0> = _5; \n",
      "type Hexme<_0, _1, _1, _0> = _6; \n",
      "type Hexme<_1, _1, _1, _0> = _7; \n",
      "type Hexme<_0, _0, _0, _1> = _8; \n",
      "type Hexme<_1, _0, _0, _1> = _9; \n",
      "type Hexme<_0, _1, _0, _1> = _A; \n",
      "type Hexme<_1, _1, _0, _1> = _B; \n",
      "type Hexme<_0, _0, _1, _1> = _C; \n",
      "type Hexme<_1, _0, _1, _1> = _D; \n",
      "type Hexme<_0, _1, _1, _1> = _E; \n",
      "type Hexme<_1, _1, _1, _1> = _F; \n"
     ]
    }
   ],
   "source": [
    "for i in range(16):\n",
    "    print(f\"type Hexme<_{i&1}, _{i>>1&1}, _{i>>2&1}, _{i>>3&1}> = _{i:X}; \")"
   ]
  }
 ],
 "metadata": {
  "kernelspec": {
   "display_name": "Python 3",
   "language": "python",
   "name": "python3"
  },
  "language_info": {
   "codemirror_mode": {
    "name": "ipython",
    "version": 3
   },
   "file_extension": ".py",
   "mimetype": "text/x-python",
   "name": "python",
   "nbconvert_exporter": "python",
   "pygments_lexer": "ipython3",
   "version": "3.11.3"
  },
  "orig_nbformat": 4
 },
 "nbformat": 4,
 "nbformat_minor": 2
}

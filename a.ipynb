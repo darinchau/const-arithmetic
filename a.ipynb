{
 "cells": [
  {
   "attachments": {},
   "cell_type": "markdown",
   "metadata": {},
   "source": [
    "This generates all the code in the library"
   ]
  },
  {
   "cell_type": "code",
   "execution_count": 10,
   "metadata": {},
   "outputs": [],
   "source": [
    "HEX = \"0123456789ABCDEF\" * 16"
   ]
  },
  {
   "cell_type": "code",
   "execution_count": null,
   "metadata": {},
   "outputs": [],
   "source": [
    "# Hex\n",
    "for i in range(16):\n",
    "    print(f\"/// This denotes the number {HEX[i]}\")\n",
    "    print(f\"pub struct _{HEX[i]};\")\n",
    "    print(f\"impl Hex for _{HEX[i]} {{ const NUMBER: u32 = {i}; }}\")\n",
    "    print()"
   ]
  },
  {
   "cell_type": "code",
   "execution_count": null,
   "metadata": {},
   "outputs": [],
   "source": [
    "# Hex equal\n",
    "print(\"/// This trait is the equal trait on hex numbers. False evaluates to _0 and true evaluates to _1\")\n",
    "print(\"pub trait HexEqual<H: Hex> { type Output: Hex; }\")\n",
    "for i in range(16):\n",
    "    for j in range(16):\n",
    "        if i == j:\n",
    "            print(f\"impl HexEqual<_{HEX[i]}> for _{HEX[j]} {{ type Output = _1; }}\")\n",
    "        else:\n",
    "            print(f\"impl HexEqual<_{HEX[i]}> for _{HEX[j]} {{ type Output = _0; }}\")"
   ]
  },
  {
   "cell_type": "code",
   "execution_count": null,
   "metadata": {},
   "outputs": [],
   "source": [
    "# Hex assert eq\n",
    "print(\"/// This trait is the equal trait on hex numbers with an assertion quality. False ones are simply not implemented\")\n",
    "print(\"pub trait HexAssertEqual<H: Hex> { }\")\n",
    "for i in range(16):\n",
    "    print(f\"impl HexAssertEqual<_{HEX[i]}> for _{HEX[i]} {{ }}\")"
   ]
  },
  {
   "cell_type": "code",
   "execution_count": null,
   "metadata": {},
   "outputs": [],
   "source": [
    "# Hex add 1\n",
    "print(\"/// This is an internal implementation of addition of two number\")\n",
    "print(\"pub trait HexAdd1<H: Hex> { type Output: Hex; type Carry: Hex; }\")\n",
    "for i in range(16):\n",
    "    for j in range(16):\n",
    "        print(f\"impl HexAdd1<_{HEX[i]}> for _{HEX[j]} {{ type Output = _{HEX[i + j]}; type Carry = _{HEX[(i+j)//16]}; }}\")"
   ]
  },
  {
   "cell_type": "code",
   "execution_count": null,
   "metadata": {},
   "outputs": [],
   "source": [
    "# Hex add 3\n",
    "print(\"/// This is an internal implementation of addition of three number\")\n",
    "print(\"pub trait HexAdd3<H1: Hex, H2: Hex> { type Output: Hex; type Carry: Hex; }\")\n",
    "for i in range(16):\n",
    "    for j in range(16):\n",
    "        rs = f\"_{HEX[i + j]}\"\n",
    "        cr = f\"_{HEX[(i+j)//16]}\"\n",
    "        print(f\"impl<H: Hex, R: Hex, C0: Hex, Cr: Hex, C_: Hex> HexAdd3<_{HEX[i]}, H> for _{HEX[j]} where H: HexAdd<{rs}, Output = R, Carry = C0>, C0: HexAdd<{cr}, Output = Cr, Carry = C_>, C_: HexAssertEqual<_0> {{ type Output = R; type Carry = Cr; }}\")"
   ]
  },
  {
   "cell_type": "code",
   "execution_count": null,
   "metadata": {},
   "outputs": [],
   "source": [
    "# Hex add 4 to 16\n",
    "\n",
    "for adder in range(5, 17):\n",
    "    h_where = \", \".join([f\"H{i}: Hex\" for i in range(1, adder)])\n",
    "    print(f\"/// This is an internal implementation of addition of {adder} number\")\n",
    "    print(f\"pub trait HexAdd{adder}<{h_where}> {{ type Output: Hex; type Carry: Hex; }}\")\n",
    "    for i in range(16):\n",
    "        h_generics = \", \".join([f\"H{i}\" for i in range(1, adder)])\n",
    "        h_generics_bound = \", \".join([f\"H{i}\" for i in range(2, adder-1)])\n",
    "        result = f\"\"\"\n",
    "impl<{h_generics}, R, C1, C2, Result, Cr, C_> HexAdd{adder}<{h_generics}> for _{HEX[i]} where \n",
    "{h_where}, \n",
    "R: Hex, \n",
    "Result: Hex, \n",
    "C1: Hex, \n",
    "C2: Hex, \n",
    "Cr: Hex, \n",
    "C_: Hex, \n",
    "H1: HexAdd{adder-2}<{h_generics_bound}, Output = R, Carry = C1>, \n",
    "R: HexAdd3<_{HEX[i]}, H{adder-1}, Output = Result, Carry = C2>, \n",
    "C1: HexAdd<C2, Output = Cr, Carry = C_>, \n",
    "C_: HexAssertEqual<_0> \n",
    "{{ type Output = Result; type Carry = Cr; }}\"\"\"\n",
    "        result = result.strip().replace(\"    \", \"\").replace(\"\\n\", \"\")\n",
    "        print(result)\n",
    "    print()"
   ]
  },
  {
   "cell_type": "code",
   "execution_count": null,
   "metadata": {},
   "outputs": [],
   "source": [
    "# Hex complement\n",
    "print(\"/// This represents 15 - x: the hexadecimal complement\")\n",
    "print(\"pub trait HexNot { type Output: Hex; }\")\n",
    "for i in range(16):\n",
    "    print(f\"\"\"impl HexNot for _{HEX[i]} {{ type Output = _{HEX[15-i]}; }}\"\"\")"
   ]
  },
  {
   "cell_type": "code",
   "execution_count": null,
   "metadata": {},
   "outputs": [],
   "source": [
    "# Hex multiply\n",
    "print(\"/// This is an internal implementation of multiplication of two hexadecimal\")\n",
    "print(\"pub trait HexMul<H: Hex> { type Output: Hex; type Carry: Hex; }\")\n",
    "for i in range(16):\n",
    "    for j in range(16):\n",
    "        rs = i * j\n",
    "        mods = (i * j) // 16\n",
    "        print(f\"impl HexMul<_{HEX[i]}> for _{HEX[j]} {{ type Output = _{HEX[rs]}; type Carry = _{HEX[mods]}; }}\")"
   ]
  },
  {
   "cell_type": "code",
   "execution_count": null,
   "metadata": {},
   "outputs": [],
   "source": [
    "# Test cases for parsing\n",
    "import random\n",
    "random.seed(12345)\n",
    "a = set()\n",
    "while len(a) < 50:\n",
    "    r = random.random() * 32\n",
    "    r = int(2 ** r)\n",
    "    if r in a:\n",
    "        continue\n",
    "    a.add(r)\n",
    "for i, x in enumerate(sorted(a)):\n",
    "    print(f\"let a{i} = parse_integer!({x}); assert_eq!(a{i}.number(), {x});\")"
   ]
  },
  {
   "cell_type": "code",
   "execution_count": null,
   "metadata": {},
   "outputs": [],
   "source": [
    "# Test cases for addition\n",
    "import random\n",
    "random.seed(12345)\n",
    "a = set()\n",
    "while len(a) < 50:\n",
    "    r = int(2 ** (random.random() * 32))\n",
    "    s = int(2 ** (random.random() * 32))\n",
    "    if (r, s) in a:\n",
    "        continue\n",
    "    if r + s >= 2 ** 32:\n",
    "        continue\n",
    "    a.add((r, s))\n",
    "for i, (x, y) in enumerate(sorted(a, key=lambda x: x[0] + x[1])):\n",
    "    print(f\"let a{i}_0 = parse_integer!({x}); let a{i}_1 = parse_integer!({y}); let a{i}_2 = parse_integer!({x+y}); add_equal(&a{i}_0, &a{i}_1, &a{i}_2);\")"
   ]
  },
  {
   "cell_type": "code",
   "execution_count": null,
   "metadata": {},
   "outputs": [],
   "source": [
    "# Test cases for subtraction\n",
    "import random\n",
    "random.seed(12345)\n",
    "a = set()\n",
    "while len(a) < 50:\n",
    "    r = int(2 ** (random.random() * 32))\n",
    "    s = int(2 ** (random.random() * 32))\n",
    "    if (r, s) in a:\n",
    "        continue\n",
    "    if r > s:\n",
    "        r, s = s, r\n",
    "    a.add((r, s))\n",
    "for i, (x, y) in enumerate(sorted(a, key=lambda x: x[1] - x[0])):\n",
    "    print(f\"let a{i}_0 = parse_integer!({x}); let a{i}_1 = parse_integer!({y}); let a{i}_2 = parse_integer!({y - x}); sub_equal(&a{i}_0, &a{i}_1, &a{i}_2);\")"
   ]
  },
  {
   "cell_type": "code",
   "execution_count": null,
   "metadata": {},
   "outputs": [],
   "source": [
    "# Test cases for multiplication\n",
    "import random\n",
    "random.seed(12345)\n",
    "a = set()\n",
    "while len(a) < 50:\n",
    "    r = int(2 ** (random.random() * 32))\n",
    "    s = int(2 ** (random.random() * 32))\n",
    "    if (r, s) in a:\n",
    "        continue\n",
    "    if r > s:\n",
    "        r, s = s, r\n",
    "    a.add((r, s))\n",
    "for i, x in enumerate(sorted(a, key=lambda x: x[0] * x[1])):\n",
    "    rs = x[0] * x[1]\n",
    "    upper = rs // (2 ** 32)\n",
    "    lower = rs % (2 ** 32)\n",
    "    result = f\"\"\"\n",
    "        let a{i}_0 = parse_integer!({x[0]});\n",
    "        let a{i}_1 = parse_integer!({x[1]});\n",
    "        let a{i}_2 = parse_integer!({upper});\n",
    "        let a{i}_3 = parse_integer!({lower});\n",
    "        mul_equal(&a{i}_0,&a{i}_1, &a{i}_2, &a{i}_3);\n",
    "    \"\"\"\n",
    "    print(result.strip().replace(\"    \", \"\").replace(\"\\n\", \" \"))"
   ]
  }
 ],
 "metadata": {
  "kernelspec": {
   "display_name": "Python 3",
   "language": "python",
   "name": "python3"
  },
  "language_info": {
   "codemirror_mode": {
    "name": "ipython",
    "version": 3
   },
   "file_extension": ".py",
   "mimetype": "text/x-python",
   "name": "python",
   "nbconvert_exporter": "python",
   "pygments_lexer": "ipython3",
   "version": "3.11.3"
  },
  "orig_nbformat": 4
 },
 "nbformat": 4,
 "nbformat_minor": 2
}

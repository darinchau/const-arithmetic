{
 "cells": [
  {
   "attachments": {},
   "cell_type": "markdown",
   "metadata": {},
   "source": [
    "This generates all the code in the library"
   ]
  },
  {
   "cell_type": "code",
   "execution_count": 2,
   "metadata": {},
   "outputs": [],
   "source": [
    "HEX = \"0123456789ABCDEF\" * 16"
   ]
  },
  {
   "cell_type": "code",
   "execution_count": null,
   "metadata": {},
   "outputs": [],
   "source": [
    "for i in range(16):\n",
    "    print(f\"/// This denotes the number {HEX[i]}\")\n",
    "    print(f\"pub struct _{HEX[i]};\")\n",
    "    print(f\"impl Hex for _{HEX[i]} {{}}\")\n",
    "    print()"
   ]
  },
  {
   "cell_type": "code",
   "execution_count": null,
   "metadata": {},
   "outputs": [],
   "source": [
    "print(\"/// This trait is the equal trait on hex numbers. False evaluates to _0 and true evaluates to _1\")\n",
    "print(\"pub trait HexEqual<H: Hex> { type Output: Hex; }\")\n",
    "for i in range(16):\n",
    "    for j in range(16):\n",
    "        if i == j:\n",
    "            print(f\"impl HexEqual<_{HEX[i]}> for _{HEX[j]} {{ type Output = _1; }}\")\n",
    "        else:\n",
    "            print(f\"impl HexEqual<_{HEX[i]}> for _{HEX[j]} {{ type Output = _0; }}\")"
   ]
  },
  {
   "cell_type": "code",
   "execution_count": null,
   "metadata": {},
   "outputs": [],
   "source": [
    "print(\"/// This trait is the equal trait on hex numbers with an assertion quality. False ones are simply not implemented\")\n",
    "print(\"pub trait HexAssertEqual<H: Hex> { }\")\n",
    "for i in range(16):\n",
    "    print(f\"impl HexAssertEqual<_{HEX[i]}> for _{HEX[i]} {{ }}\")"
   ]
  },
  {
   "cell_type": "code",
   "execution_count": null,
   "metadata": {},
   "outputs": [],
   "source": [
    "print(\"/// This is an internal implementation of addition without carryover\")\n",
    "print(\"pub trait _HexAdd1<H: Hex> { type Output: Hex; type Carry: Hex; }\")\n",
    "for i in range(16):\n",
    "    for j in range(16):\n",
    "        print(f\"impl _HexAdd1<_{HEX[i]}> for _{HEX[j]} {{ type Output = _{HEX[i + j]}; type Carry = _{HEX[(i+j)//16]}; }}\")"
   ]
  },
  {
   "cell_type": "code",
   "execution_count": null,
   "metadata": {},
   "outputs": [],
   "source": [
    "print(\"/// This is an internal implementation of addition with carryover\")\n",
    "print(\"pub trait HexAdd2<H: Hex, C: Hex> { type Output: Hex; type Carry: Hex; }\")\n",
    "for i in range(16):\n",
    "    print(f\"\"\"\n",
    "impl<H, C, R1, C1, R2, C2, Cr, C_> HexAdd2<H, C> for _{HEX[i]} where H: Hex, C: Hex, R1: Hex, R2: Hex, C1: Hex, C2: Hex, Cr: Hex, H: HexAdd1<_{HEX[i]}, Output = R1, Carry = C1>, R1: HexAdd1<C, Output = R2, Carry = C2>, C1: HexAdd1<C2, Output = Cr, Carry = C_> {{\n",
    "    type Output = R2;\n",
    "    type Carry = Cr;\n",
    "}}\n",
    "\"\"\")"
   ]
  },
  {
   "cell_type": "code",
   "execution_count": null,
   "metadata": {},
   "outputs": [],
   "source": [
    "# Test cases\n",
    "import random\n",
    "random.seed(12345)\n",
    "a = set()\n",
    "while len(a) < 100:\n",
    "    r = random.random() * 32\n",
    "    r = int(2 ** r)\n",
    "    if r in a:\n",
    "        continue\n",
    "    a.add(r)\n",
    "for i, x in enumerate(sorted(a)):\n",
    "    print(f\"let a{i} = parse_integer!({x});\\ntyped_assert_eq!(a{i}, {x});\")"
   ]
  }
 ],
 "metadata": {
  "kernelspec": {
   "display_name": "Python 3",
   "language": "python",
   "name": "python3"
  },
  "language_info": {
   "codemirror_mode": {
    "name": "ipython",
    "version": 3
   },
   "file_extension": ".py",
   "mimetype": "text/x-python",
   "name": "python",
   "nbconvert_exporter": "python",
   "pygments_lexer": "ipython3",
   "version": "3.11.3"
  },
  "orig_nbformat": 4
 },
 "nbformat": 4,
 "nbformat_minor": 2
}

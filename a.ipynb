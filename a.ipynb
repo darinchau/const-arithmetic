{
 "cells": [
  {
   "attachments": {},
   "cell_type": "markdown",
   "metadata": {},
   "source": [
    "This generates all the code in the library"
   ]
  },
  {
   "cell_type": "code",
   "execution_count": 4,
   "metadata": {},
   "outputs": [],
   "source": [
    "HEX = \"0123456789ABCDEF\" * 16"
   ]
  },
  {
   "cell_type": "code",
   "execution_count": null,
   "metadata": {},
   "outputs": [],
   "source": [
    "for i in range(16):\n",
    "    print(f\"/// This denotes the number {HEX[i]}\")\n",
    "    print(f\"pub struct _{HEX[i]};\")\n",
    "    print(f\"impl Hex for _{HEX[i]} {{}}\")\n",
    "    print()"
   ]
  },
  {
   "cell_type": "code",
   "execution_count": null,
   "metadata": {},
   "outputs": [],
   "source": [
    "print(\"/// This trait is the equal trait on hex numbers. False evaluates to _0 and true evaluates to _1\")\n",
    "print(\"pub trait HexEqual<H: Hex> { type Output: Hex; }\")\n",
    "for i in range(16):\n",
    "    for j in range(16):\n",
    "        if i == j:\n",
    "            print(f\"impl HexEqual<_{HEX[i]}> for _{HEX[j]} {{ type Output = _1; }}\")\n",
    "        else:\n",
    "            print(f\"impl HexEqual<_{HEX[i]}> for _{HEX[j]} {{ type Output = _0; }}\")"
   ]
  },
  {
   "cell_type": "code",
   "execution_count": null,
   "metadata": {},
   "outputs": [],
   "source": [
    "print(\"/// This is an internal implementation of addition without carryover\")\n",
    "print(\"pub trait _HexAdd1<H: Hex> { type Output: Hex; type Carry: Hex; }\")\n",
    "for i in range(16):\n",
    "    for j in range(16):\n",
    "        print(f\"impl _HexAdd1<_{HEX[i]}> for _{HEX[j]} {{ type Output = _{HEX[i + j]}; type Carry = _{HEX[(i+j)//16]}; }}\")"
   ]
  },
  {
   "cell_type": "code",
   "execution_count": null,
   "metadata": {},
   "outputs": [],
   "source": [
    "print(\"/// This is an internal implementation of addition with carryover\")\n",
    "print(\"pub trait _HexAdd2<H: Hex, C: Hex> { type Output: Hex; type Carry: Hex; }\")\n",
    "for i in range(16):\n",
    "    for j in range(16):\n",
    "        for k in range(16):\n",
    "            res = i + j + k\n",
    "            mods = res // 16\n",
    "            print(f\"impl _HexAdd2<_{HEX[i]}, _{HEX[j]}> for _{HEX[k]} {{ type Output = _{HEX[res]}; type Carry = _{HEX[mods]}; }}\")"
   ]
  }
 ],
 "metadata": {
  "kernelspec": {
   "display_name": "Python 3",
   "language": "python",
   "name": "python3"
  },
  "language_info": {
   "codemirror_mode": {
    "name": "ipython",
    "version": 3
   },
   "file_extension": ".py",
   "mimetype": "text/x-python",
   "name": "python",
   "nbconvert_exporter": "python",
   "pygments_lexer": "ipython3",
   "version": "3.11.3"
  },
  "orig_nbformat": 4
 },
 "nbformat": 4,
 "nbformat_minor": 2
}

{
 "cells": [
  {
   "attachments": {},
   "cell_type": "markdown",
   "metadata": {},
   "source": [
    "This generates all the code in the library"
   ]
  },
  {
   "cell_type": "code",
   "execution_count": 10,
   "metadata": {},
   "outputs": [],
   "source": [
    "HEX = \"0123456789ABCDEF\" * 16"
   ]
  },
  {
   "cell_type": "code",
   "execution_count": null,
   "metadata": {},
   "outputs": [],
   "source": [
    "# Hex\n",
    "for i in range(16):\n",
    "    print(f\"/// This denotes the number {HEX[i]}\")\n",
    "    print(f\"pub struct _{HEX[i]};\")\n",
    "    print(f\"impl Hex for _{HEX[i]} {{}}\")\n",
    "    print()"
   ]
  },
  {
   "cell_type": "code",
   "execution_count": null,
   "metadata": {},
   "outputs": [],
   "source": [
    "# Hex equal\n",
    "print(\"/// This trait is the equal trait on hex numbers. False evaluates to _0 and true evaluates to _1\")\n",
    "print(\"pub trait HexEqual<H: Hex> { type Output: Hex; }\")\n",
    "for i in range(16):\n",
    "    for j in range(16):\n",
    "        if i == j:\n",
    "            print(f\"impl HexEqual<_{HEX[i]}> for _{HEX[j]} {{ type Output = _1; }}\")\n",
    "        else:\n",
    "            print(f\"impl HexEqual<_{HEX[i]}> for _{HEX[j]} {{ type Output = _0; }}\")"
   ]
  },
  {
   "cell_type": "code",
   "execution_count": null,
   "metadata": {},
   "outputs": [],
   "source": [
    "# Hex assert eq\n",
    "print(\"/// This trait is the equal trait on hex numbers with an assertion quality. False ones are simply not implemented\")\n",
    "print(\"pub trait HexAssertEqual<H: Hex> { }\")\n",
    "for i in range(16):\n",
    "    print(f\"impl HexAssertEqual<_{HEX[i]}> for _{HEX[i]} {{ }}\")"
   ]
  },
  {
   "cell_type": "code",
   "execution_count": null,
   "metadata": {},
   "outputs": [],
   "source": [
    "# Hex add 1\n",
    "print(\"/// This is an internal implementation of addition of two number\")\n",
    "print(\"pub trait HexAdd1<H: Hex> { type Output: Hex; type Carry: Hex; }\")\n",
    "for i in range(16):\n",
    "    for j in range(16):\n",
    "        print(f\"impl HexAdd1<_{HEX[i]}> for _{HEX[j]} {{ type Output = _{HEX[i + j]}; type Carry = _{HEX[(i+j)//16]}; }}\")"
   ]
  },
  {
   "cell_type": "code",
   "execution_count": null,
   "metadata": {},
   "outputs": [],
   "source": [
    "# Hex add 3\n",
    "print(\"/// This is an internal implementation of addition of three number\")\n",
    "print(\"pub trait HexAdd3<H1: Hex, H2: Hex> { type Output: Hex; type Carry: Hex; }\")\n",
    "for i in range(16):\n",
    "    for j in range(16):\n",
    "        rs = f\"_{HEX[i + j]}\"\n",
    "        cr = f\"_{HEX[(i+j)//16]}\"\n",
    "        print(f\"impl<H: Hex, R: Hex, C0: Hex, Cr: Hex, C_: Hex> HexAdd3<_{HEX[i]}, H> for _{HEX[j]} where H: HexAdd<{rs}, Output = R, Carry = C0>, C0: HexAdd<{cr}, Output = Cr, Carry = C_>, C_: HexAssertEqual<_0> {{ type Output = R; type Carry = Cr; }}\")"
   ]
  },
  {
   "cell_type": "code",
   "execution_count": null,
   "metadata": {},
   "outputs": [],
   "source": [
    "# Hex add 4 to 16\n",
    "\n",
    "for adder in range(4, 9):\n",
    "    h_where = \", \".join([f\"H{i}: Hex\" for i in range(1, adder)])\n",
    "    print(f\"/// This is an internal implementation of addition of {adder} number\")\n",
    "    print(f\"pub trait HexAdd{adder}<{h_where}> {{ type Output: Hex; type Carry: Hex; }}\")\n",
    "    for i in range(16):\n",
    "        h_generics = \", \".join([f\"H{i}\" for i in range(1, adder)])\n",
    "        h_generics_bound = \", \".join([f\"H{i}\" for i in range(2, adder)])\n",
    "        result = f\"\"\"\n",
    "impl<{h_generics}, R1, C1, C2, Result, Cr, C_> HexAdd{adder}<{h_generics}> for _{HEX[i]} where \n",
    "{h_where}, R1: Hex, Result: Hex, C1: Hex, C2: Hex, Cr: Hex, C_: Hex, \n",
    "H1: HexAdd{adder-1}<{h_generics_bound}, Output = R1, Carry = C1>, \n",
    "R1: HexAdd<_{HEX[i]}, Output = Result, Carry = C2>, \n",
    "C1: HexAdd<C2, Output = Cr, Carry = C_>, \n",
    "C_: HexAssertEqual<_0> \n",
    "{{ type Output = Result; type Carry = Cr; }}\"\"\"\n",
    "        result = result.replace(\"\\t\", \"\").replace(\"\\n\", \"\")\n",
    "        print(result)\n",
    "    print()"
   ]
  },
  {
   "cell_type": "code",
   "execution_count": null,
   "metadata": {},
   "outputs": [],
   "source": [
    "# Hex complement\n",
    "print(\"/// This represents 15 - x: the hexadecimal complement\")\n",
    "print(\"pub trait HexNot { type Output: Hex; }\")\n",
    "for i in range(16):\n",
    "    print(f\"\"\"impl HexNot for _{HEX[i]} {{ type Output = _{HEX[15-i]}; }}\"\"\")"
   ]
  },
  {
   "cell_type": "code",
   "execution_count": null,
   "metadata": {},
   "outputs": [],
   "source": [
    "# Hex multiply\n",
    "print(\"/// This is an internal implementation of multiplication of two hexadecimal\")\n",
    "print(\"pub trait HexMul<H: Hex> { type Output: Hex; type Carry: Hex; }\")\n",
    "for i in range(16):\n",
    "    for j in range(16):\n",
    "        rs = i * j\n",
    "        mods = (i * j) // 16\n",
    "        print(f\"impl HexMul<_{HEX[i]}> for _{HEX[j]} {{ type Output = _{HEX[rs]}; type Carry = _{HEX[mods]}; }}\")"
   ]
  },
  {
   "cell_type": "code",
   "execution_count": null,
   "metadata": {},
   "outputs": [],
   "source": [
    "# Test cases\n",
    "import random\n",
    "random.seed(12345)\n",
    "a = set()\n",
    "while len(a) < 100:\n",
    "    r = random.random() * 32\n",
    "    r = int(2 ** r)\n",
    "    if r in a:\n",
    "        continue\n",
    "    a.add(r)\n",
    "for i, x in enumerate(sorted(a)):\n",
    "    print(f\"let a{i} = parse_integer!({x}); typed_assert_eq!(a{i}, {x});\")"
   ]
  }
 ],
 "metadata": {
  "kernelspec": {
   "display_name": "Python 3",
   "language": "python",
   "name": "python3"
  },
  "language_info": {
   "codemirror_mode": {
    "name": "ipython",
    "version": 3
   },
   "file_extension": ".py",
   "mimetype": "text/x-python",
   "name": "python",
   "nbconvert_exporter": "python",
   "pygments_lexer": "ipython3",
   "version": "3.11.3"
  },
  "orig_nbformat": 4
 },
 "nbformat": 4,
 "nbformat_minor": 2
}

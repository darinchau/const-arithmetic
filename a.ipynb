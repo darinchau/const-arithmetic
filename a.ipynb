{
 "cells": [
  {
   "attachments": {},
   "cell_type": "markdown",
   "metadata": {},
   "source": [
    "This generates all the code in the library"
   ]
  },
  {
   "cell_type": "code",
   "execution_count": 10,
   "metadata": {},
   "outputs": [],
   "source": [
    "HEX = \"0123456789ABCDEF\" * 16"
   ]
  },
  {
   "cell_type": "code",
   "execution_count": null,
   "metadata": {},
   "outputs": [],
   "source": [
    "# Hex\n",
    "for i in range(16):\n",
    "    print(f\"/// This denotes the number {i}\")\n",
    "    print(f\"pub struct _{HEX[i]};\")\n",
    "    print()\n",
    "\n",
    "for i in range(16):\n",
    "    print(f\"impl Hex for _{HEX[i]} {{ const NUMBER: u32 = {i}; }}\")"
   ]
  },
  {
   "cell_type": "code",
   "execution_count": null,
   "metadata": {},
   "outputs": [],
   "source": [
    "# Hex equal\n",
    "print(\"/// This trait is the equal trait on hex numbers. False evaluates to _0 and true evaluates to _1\")\n",
    "print(\"pub trait HexEqual<H: Hex> { type Output: Binary; }\")\n",
    "for i in range(16):\n",
    "    for j in range(16):\n",
    "        if i == j:\n",
    "            print(f\"impl HexEqual<_{HEX[i]}> for _{HEX[j]} {{ type Output = _1; }}\")\n",
    "        else:\n",
    "            print(f\"impl HexEqual<_{HEX[i]}> for _{HEX[j]} {{ type Output = _0; }}\")"
   ]
  },
  {
   "cell_type": "code",
   "execution_count": null,
   "metadata": {},
   "outputs": [],
   "source": [
    "# Hex assert eq\n",
    "print(\"/// This trait is the equal trait on hex numbers with an assertion quality. False ones are simply not implemented\")\n",
    "print(\"pub trait HexAssertEqual<H: Hex> { }\")\n",
    "for i in range(16):\n",
    "    print(f\"impl HexAssertEqual<_{HEX[i]}> for _{HEX[i]} {{ }}\")"
   ]
  },
  {
   "cell_type": "code",
   "execution_count": null,
   "metadata": {},
   "outputs": [],
   "source": [
    "# Hex add 1\n",
    "print(\"/// This is an internal implementation of addition of two number\")\n",
    "print(\"pub trait HexAdd1<H: Hex> { type Output: Hex; type Carry: Hex; }\")\n",
    "for i in range(16):\n",
    "    for j in range(16):\n",
    "        print(f\"impl HexAdd1<_{HEX[i]}> for _{HEX[j]} {{ type Output = _{HEX[i + j]}; type Carry = _{HEX[(i+j)//16]}; }}\")"
   ]
  },
  {
   "cell_type": "code",
   "execution_count": null,
   "metadata": {},
   "outputs": [],
   "source": [
    "# Hex add 3\n",
    "print(\"/// This is an internal implementation of addition of three number\")\n",
    "print(\"pub trait HexAdd3<H1: Hex, H2: Hex> { type Output: Hex; type Carry: Hex; }\")\n",
    "for i in range(16):\n",
    "    for j in range(16):\n",
    "        rs = f\"_{HEX[i + j]}\"\n",
    "        cr = f\"_{HEX[(i+j)//16]}\"\n",
    "        print(f\"impl<H: Hex, R: Hex, C0: Hex, Cr: Hex, C_: Hex> HexAdd3<_{HEX[i]}, H> for _{HEX[j]} where H: HexAdd<{rs}, Output = R, Carry = C0>, C0: HexAdd<{cr}, Output = Cr, Carry = C_>, C_: HexAssertEqual<_0> {{ type Output = R; type Carry = Cr; }}\")"
   ]
  },
  {
   "cell_type": "code",
   "execution_count": null,
   "metadata": {},
   "outputs": [],
   "source": [
    "# Hex add 4 to 16\n",
    "\n",
    "for adder in range(5, 17):\n",
    "    h_where = \", \".join([f\"H{i}: Hex\" for i in range(1, adder)])\n",
    "    print(f\"/// This is an internal implementation of addition of {adder} number\")\n",
    "    print(f\"pub trait HexAdd{adder}<{h_where}> {{ type Output: Hex; type Carry: Hex; }}\")\n",
    "    for i in range(16):\n",
    "        h_generics = \", \".join([f\"H{i}\" for i in range(1, adder)])\n",
    "        h_generics_bound = \", \".join([f\"H{i}\" for i in range(2, adder-1)])\n",
    "        result = f\"\"\"\n",
    "impl<{h_generics}, R, C1, C2, Result, Cr, C_> HexAdd{adder}<{h_generics}> for _{HEX[i]} where \n",
    "{h_where}, \n",
    "R: Hex, \n",
    "Result: Hex, \n",
    "C1: Hex, \n",
    "C2: Hex, \n",
    "Cr: Hex, \n",
    "C_: Hex, \n",
    "H1: HexAdd{adder-2}<{h_generics_bound}, Output = R, Carry = C1>, \n",
    "R: HexAdd3<_{HEX[i]}, H{adder-1}, Output = Result, Carry = C2>, \n",
    "C1: HexAdd<C2, Output = Cr, Carry = C_>, \n",
    "C_: HexAssertEqual<_0> \n",
    "{{ type Output = Result; type Carry = Cr; }}\"\"\"\n",
    "        result = result.strip().replace(\"    \", \"\").replace(\"\\n\", \"\")\n",
    "        print(result)\n",
    "    print()"
   ]
  },
  {
   "cell_type": "code",
   "execution_count": null,
   "metadata": {},
   "outputs": [],
   "source": [
    "# Hex complement\n",
    "print(\"/// This represents 15 - x: the hexadecimal complement\")\n",
    "print(\"pub trait HexNot { type Output: Hex; }\")\n",
    "for i in range(16):\n",
    "    print(f\"\"\"impl HexNot for _{HEX[i]} {{ type Output = _{HEX[15-i]}; }}\"\"\")"
   ]
  },
  {
   "cell_type": "code",
   "execution_count": null,
   "metadata": {},
   "outputs": [],
   "source": [
    "# Hex multiply\n",
    "print(\"/// This is an internal implementation of multiplication of two hexadecimal\")\n",
    "print(\"pub trait HexMul<H: Hex> { type Output: Hex; type Carry: Hex; }\")\n",
    "for i in range(16):\n",
    "    for j in range(16):\n",
    "        rs = i * j\n",
    "        mods = (i * j) // 16\n",
    "        print(f\"impl HexMul<_{HEX[i]}> for _{HEX[j]} {{ type Output = _{HEX[rs]}; type Carry = _{HEX[mods]}; }}\")"
   ]
  },
  {
   "cell_type": "code",
   "execution_count": null,
   "metadata": {},
   "outputs": [],
   "source": [
    "# Hex less than\n",
    "print(\"/// This is an internal implementation of a < b\")\n",
    "print(\"pub trait HexLessThan<H: Hex> {type Output: Binary; }\")\n",
    "for i in range(16):\n",
    "    for j in range(16):\n",
    "        if i < j:\n",
    "            print(f\"impl HexLessThan<_{HEX[i]}> for _{HEX[j]} {{ type Output = _0; }}\")\n",
    "        elif i == j:\n",
    "            print(f\"impl HexLessThan<_{HEX[i]}> for _{HEX[j]} {{ type Output = _0; }}\")\n",
    "        else:\n",
    "            print(f\"impl HexLessThan<_{HEX[i]}> for _{HEX[j]} {{ type Output = _1; }}\")"
   ]
  },
  {
   "cell_type": "code",
   "execution_count": null,
   "metadata": {},
   "outputs": [],
   "source": [
    "# Other hex comparison\n",
    "\n",
    "print(\"/// This is an internal implementation of a <= b\")\n",
    "print(\"pub trait HexLeq<H: Hex> { type Output: Binary; }\")\n",
    "for i in range(16):\n",
    "    print(f\"\"\"impl<H: Hex, A: Binary, B: Binary, C: Binary> HexLeq<H> for _{HEX[i]} where H: HexLessThan<_{HEX[i]}, Output = A>, H: HexEqual<_{HEX[i]}, Output = B>, A: BinOr<B, Output = C> {{ type Output = C; }}\"\"\")\n",
    "\n",
    "print(\"/// This is an internal implementation of a > b\")\n",
    "print(\"pub trait HexGreaterThan<H: Hex> { type Output: Binary; }\")\n",
    "for i in range(16):\n",
    "    print(f\"\"\"impl<H: Hex, A: Binary, B: Binary, C: Binary> HexGreaterThan<H> for _{HEX[i]} where H: HexLessThan<_{HEX[i]}, Output = A>, H: HexEqual<_{HEX[i]}, Output = B>, A: BinNor<B, Output = C> {{ type Output = C; }}\"\"\")\n",
    "\n",
    "print(\"/// This is an internal implementation of a >= b\")\n",
    "print(\"pub trait HexGeq<H: Hex> { type Output: Binary; }\")\n",
    "for i in range(16):\n",
    "    print(f\"\"\"impl<H: Hex, A: Binary, B: Binary> HexGeq<H> for _{HEX[i]} where H: HexLessThan<_{HEX[i]}, Output = A>, A: BinNot<Output = B> {{ type Output = B; }}\"\"\")\n"
   ]
  },
  {
   "cell_type": "code",
   "execution_count": null,
   "metadata": {},
   "outputs": [],
   "source": [
    "# Test cases for parsing\n",
    "import random\n",
    "random.seed(12345)\n",
    "a = set()\n",
    "while len(a) < 50:\n",
    "    r = random.random() * 32\n",
    "    r = int(2 ** r)\n",
    "    if r in a:\n",
    "        continue\n",
    "    a.add(r)\n",
    "for i, x in enumerate(sorted(a)):\n",
    "    print(f\"let a{i} = parse_integer!({x}); assert_eq!(a{i}.number(), {x});\")"
   ]
  },
  {
   "cell_type": "code",
   "execution_count": null,
   "metadata": {},
   "outputs": [],
   "source": [
    "# Test cases for addition\n",
    "import random\n",
    "random.seed(12345)\n",
    "a = set()\n",
    "while len(a) < 50:\n",
    "    r = int(2 ** (random.random() * 32))\n",
    "    s = int(2 ** (random.random() * 32))\n",
    "    if (r, s) in a:\n",
    "        continue\n",
    "    if r + s >= 2 ** 32:\n",
    "        continue\n",
    "    a.add((r, s))\n",
    "for i, (x, y) in enumerate(sorted(a, key=lambda x: x[0] + x[1])):\n",
    "    print(f\"let a{i}_0 = parse_integer!({x}); let a{i}_1 = parse_integer!({y}); let a{i}_2 = parse_integer!({x+y}); add_equal(&a{i}_0, &a{i}_1, &a{i}_2);\")"
   ]
  },
  {
   "cell_type": "code",
   "execution_count": null,
   "metadata": {},
   "outputs": [],
   "source": [
    "# Test cases for subtraction\n",
    "import random\n",
    "random.seed(23456)\n",
    "a = set()\n",
    "while len(a) < 50:\n",
    "    r = int(2 ** (random.random() * 32))\n",
    "    s = int(2 ** (random.random() * 32))\n",
    "    if (r, s) in a:\n",
    "        continue\n",
    "    if r > s:\n",
    "        r, s = s, r\n",
    "    a.add((r, s))\n",
    "for i, (x, y) in enumerate(sorted(a, key=lambda x: x[1] - x[0])):\n",
    "    print(f\"let a{i}_0 = parse_integer!({x}); let a{i}_1 = parse_integer!({y}); let a{i}_2 = parse_integer!({y - x}); sub_equal(&a{i}_0, &a{i}_1, &a{i}_2);\")"
   ]
  },
  {
   "cell_type": "code",
   "execution_count": null,
   "metadata": {},
   "outputs": [],
   "source": [
    "# Test cases for multiplication\n",
    "import random\n",
    "random.seed(34567)\n",
    "a = set()\n",
    "while len(a) < 50:\n",
    "    r = int(2 ** (random.random() * 32))\n",
    "    s = int(2 ** (random.random() * 32))\n",
    "    if (r, s) in a:\n",
    "        continue\n",
    "    if r > s:\n",
    "        r, s = s, r\n",
    "    a.add((r, s))\n",
    "for i, x in enumerate(sorted(a, key=lambda x: x[0] * x[1])):\n",
    "    rs = x[0] * x[1]\n",
    "    upper = rs // (2 ** 32)\n",
    "    lower = rs % (2 ** 32)\n",
    "    result = f\"\"\"\n",
    "        let a{i}_0 = parse_integer!({x[0]});\n",
    "        let a{i}_1 = parse_integer!({x[1]});\n",
    "        let a{i}_2 = parse_integer!({upper});\n",
    "        let a{i}_3 = parse_integer!({lower});\n",
    "        mul_equal(&a{i}_0,&a{i}_1, &a{i}_2, &a{i}_3);\n",
    "    \"\"\"\n",
    "    print(result.strip().replace(\"    \", \"\").replace(\"\\n\", \" \"))"
   ]
  },
  {
   "cell_type": "code",
   "execution_count": 92,
   "metadata": {},
   "outputs": [
    {
     "name": "stdout",
     "output_type": "stream",
     "text": [
      "let a0_0 = parse_integer!(1); let a0_1 = parse_integer!(3); is_less(&a0_0, &a0_1, &True); is_less(&a0_1, &a0_0, &False);\n",
      "let a1_0 = parse_integer!(1); let a1_1 = parse_integer!(1406); is_less(&a1_0, &a1_1, &True); is_less(&a1_1, &a1_0, &False);\n",
      "let a2_0 = parse_integer!(1); let a2_1 = parse_integer!(211920427); is_less(&a2_0, &a2_1, &True); is_less(&a2_1, &a2_0, &False);\n",
      "let a3_0 = parse_integer!(3); let a3_1 = parse_integer!(591295195); is_less(&a3_0, &a3_1, &True); is_less(&a3_1, &a3_0, &False);\n",
      "let a4_0 = parse_integer!(4); let a4_1 = parse_integer!(98); is_less(&a4_0, &a4_1, &True); is_less(&a4_1, &a4_0, &False);\n",
      "let a5_0 = parse_integer!(4); let a5_1 = parse_integer!(15483789); is_less(&a5_0, &a5_1, &True); is_less(&a5_1, &a5_0, &False);\n",
      "let a6_0 = parse_integer!(5); let a6_1 = parse_integer!(31); is_less(&a6_0, &a6_1, &True); is_less(&a6_1, &a6_0, &False);\n",
      "let a7_0 = parse_integer!(7); let a7_1 = parse_integer!(4675); is_less(&a7_0, &a7_1, &True); is_less(&a7_1, &a7_0, &False);\n",
      "let a8_0 = parse_integer!(7); let a8_1 = parse_integer!(18070); is_less(&a8_0, &a8_1, &True); is_less(&a8_1, &a8_0, &False);\n",
      "let a9_0 = parse_integer!(12); let a9_1 = parse_integer!(15562); is_less(&a9_0, &a9_1, &True); is_less(&a9_1, &a9_0, &False);\n",
      "let a10_0 = parse_integer!(15); let a10_1 = parse_integer!(127892); is_less(&a10_0, &a10_1, &True); is_less(&a10_1, &a10_0, &False);\n",
      "let a11_0 = parse_integer!(20); let a11_1 = parse_integer!(51753); is_less(&a11_0, &a11_1, &True); is_less(&a11_1, &a11_0, &False);\n",
      "let a12_0 = parse_integer!(22); let a12_1 = parse_integer!(287677); is_less(&a12_0, &a12_1, &True); is_less(&a12_1, &a12_0, &False);\n",
      "let a13_0 = parse_integer!(23); let a13_1 = parse_integer!(303); is_less(&a13_0, &a13_1, &True); is_less(&a13_1, &a13_0, &False);\n",
      "let a14_0 = parse_integer!(35); let a14_1 = parse_integer!(865); is_less(&a14_0, &a14_1, &True); is_less(&a14_1, &a14_0, &False);\n",
      "let a15_0 = parse_integer!(52); let a15_1 = parse_integer!(2643212859); is_less(&a15_0, &a15_1, &True); is_less(&a15_1, &a15_0, &False);\n",
      "let a16_0 = parse_integer!(53); let a16_1 = parse_integer!(473781825); is_less(&a16_0, &a16_1, &True); is_less(&a16_1, &a16_0, &False);\n",
      "let a17_0 = parse_integer!(65); let a17_1 = parse_integer!(7383120); is_less(&a17_0, &a17_1, &True); is_less(&a17_1, &a17_0, &False);\n",
      "let a18_0 = parse_integer!(71); let a18_1 = parse_integer!(1480043888); is_less(&a18_0, &a18_1, &True); is_less(&a18_1, &a18_0, &False);\n",
      "let a19_0 = parse_integer!(84); let a19_1 = parse_integer!(39075); is_less(&a19_0, &a19_1, &True); is_less(&a19_1, &a19_0, &False);\n",
      "let a20_0 = parse_integer!(91); let a20_1 = parse_integer!(173666); is_less(&a20_0, &a20_1, &True); is_less(&a20_1, &a20_0, &False);\n",
      "let a21_0 = parse_integer!(96); let a21_1 = parse_integer!(893227); is_less(&a21_0, &a21_1, &True); is_less(&a21_1, &a21_0, &False);\n",
      "let a22_0 = parse_integer!(120); let a22_1 = parse_integer!(120); is_less(&a22_0, &a22_1, &False); is_less(&a22_1, &a22_0, &False);\n",
      "let a23_0 = parse_integer!(121); let a23_1 = parse_integer!(3725); is_less(&a23_0, &a23_1, &True); is_less(&a23_1, &a23_0, &False);\n",
      "let a24_0 = parse_integer!(231); let a24_1 = parse_integer!(317328); is_less(&a24_0, &a24_1, &True); is_less(&a24_1, &a24_0, &False);\n",
      "let a25_0 = parse_integer!(569); let a25_1 = parse_integer!(39057649); is_less(&a25_0, &a25_1, &True); is_less(&a25_1, &a25_0, &False);\n",
      "let a26_0 = parse_integer!(1071); let a26_1 = parse_integer!(1071); is_less(&a26_0, &a26_1, &False); is_less(&a26_1, &a26_0, &False);\n",
      "let a27_0 = parse_integer!(1088); let a27_1 = parse_integer!(19411); is_less(&a27_0, &a27_1, &True); is_less(&a27_1, &a27_0, &False);\n",
      "let a28_0 = parse_integer!(1150); let a28_1 = parse_integer!(8650227); is_less(&a28_0, &a28_1, &True); is_less(&a28_1, &a28_0, &False);\n",
      "let a29_0 = parse_integer!(1463); let a29_1 = parse_integer!(2534287941); is_less(&a29_0, &a29_1, &True); is_less(&a29_1, &a29_0, &False);\n",
      "let a30_0 = parse_integer!(1757); let a30_1 = parse_integer!(2793338388); is_less(&a30_0, &a30_1, &True); is_less(&a30_1, &a30_0, &False);\n",
      "let a31_0 = parse_integer!(2533); let a31_1 = parse_integer!(1137107959); is_less(&a31_0, &a31_1, &True); is_less(&a31_1, &a31_0, &False);\n",
      "let a32_0 = parse_integer!(3455); let a32_1 = parse_integer!(1014372384); is_less(&a32_0, &a32_1, &True); is_less(&a32_1, &a32_0, &False);\n",
      "let a33_0 = parse_integer!(3744); let a33_1 = parse_integer!(7817); is_less(&a33_0, &a33_1, &True); is_less(&a33_1, &a33_0, &False);\n",
      "let a34_0 = parse_integer!(11487); let a34_1 = parse_integer!(785056903); is_less(&a34_0, &a34_1, &True); is_less(&a34_1, &a34_0, &False);\n",
      "let a35_0 = parse_integer!(13665); let a35_1 = parse_integer!(1192568655); is_less(&a35_0, &a35_1, &True); is_less(&a35_1, &a35_0, &False);\n",
      "let a36_0 = parse_integer!(19119); let a36_1 = parse_integer!(775424); is_less(&a36_0, &a36_1, &True); is_less(&a36_1, &a36_0, &False);\n",
      "let a37_0 = parse_integer!(19370); let a37_1 = parse_integer!(36830); is_less(&a37_0, &a37_1, &True); is_less(&a37_1, &a37_0, &False);\n",
      "let a38_0 = parse_integer!(26553); let a38_1 = parse_integer!(48042); is_less(&a38_0, &a38_1, &True); is_less(&a38_1, &a38_0, &False);\n",
      "let a39_0 = parse_integer!(34869); let a39_1 = parse_integer!(169899487); is_less(&a39_0, &a39_1, &True); is_less(&a39_1, &a39_0, &False);\n",
      "let a40_0 = parse_integer!(48895); let a40_1 = parse_integer!(56221); is_less(&a40_0, &a40_1, &True); is_less(&a40_1, &a40_0, &False);\n",
      "let a41_0 = parse_integer!(54364); let a41_1 = parse_integer!(311110); is_less(&a41_0, &a41_1, &True); is_less(&a41_1, &a41_0, &False);\n",
      "let a42_0 = parse_integer!(57254); let a42_1 = parse_integer!(33144403); is_less(&a42_0, &a42_1, &True); is_less(&a42_1, &a42_0, &False);\n",
      "let a43_0 = parse_integer!(114591); let a43_1 = parse_integer!(246316); is_less(&a43_0, &a43_1, &True); is_less(&a43_1, &a43_0, &False);\n",
      "let a44_0 = parse_integer!(132250); let a44_1 = parse_integer!(96641092); is_less(&a44_0, &a44_1, &True); is_less(&a44_1, &a44_0, &False);\n",
      "let a45_0 = parse_integer!(677155); let a45_1 = parse_integer!(20189056); is_less(&a45_0, &a45_1, &True); is_less(&a45_1, &a45_0, &False);\n",
      "let a46_0 = parse_integer!(1712277); let a46_1 = parse_integer!(1095362660); is_less(&a46_0, &a46_1, &True); is_less(&a46_1, &a46_0, &False);\n",
      "let a47_0 = parse_integer!(3971257); let a47_1 = parse_integer!(225217508); is_less(&a47_0, &a47_1, &True); is_less(&a47_1, &a47_0, &False);\n",
      "let a48_0 = parse_integer!(13481790); let a48_1 = parse_integer!(96516460); is_less(&a48_0, &a48_1, &True); is_less(&a48_1, &a48_0, &False);\n",
      "let a49_0 = parse_integer!(124054232); let a49_1 = parse_integer!(199559616); is_less(&a49_0, &a49_1, &True); is_less(&a49_1, &a49_0, &False);\n"
     ]
    }
   ],
   "source": [
    "# Test cases for multiplication\n",
    "import random\n",
    "random.seed(42069)\n",
    "a = set()\n",
    "while len(a) < 50:\n",
    "    r = int(2 ** (random.random() * 32))\n",
    "    s = int(2 ** (random.random() * 32))\n",
    "    if (r, s) in a:\n",
    "        continue\n",
    "    if r > s:\n",
    "        r, s = s, r\n",
    "    if len(a) == 48 and r != s:\n",
    "        a.add((r, r))\n",
    "        a.add((s, s))\n",
    "    else:\n",
    "        a.add((r, s))\n",
    "for i, x in enumerate(sorted(a)):\n",
    "    if x[0] == x[1]:\n",
    "        result = f\"\"\"\n",
    "            let a{i}_0 = parse_integer!({x[0]});\n",
    "            let a{i}_1 = parse_integer!({x[1]});\n",
    "            is_less(&a{i}_0, &a{i}_1, &False);\n",
    "            is_less(&a{i}_1, &a{i}_0, &False);\n",
    "        \"\"\"\n",
    "    else:\n",
    "        result = f\"\"\"\n",
    "            let a{i}_0 = parse_integer!({x[0]});\n",
    "            let a{i}_1 = parse_integer!({x[1]});\n",
    "            is_less(&a{i}_0, &a{i}_1, &True);\n",
    "            is_less(&a{i}_1, &a{i}_0, &False);\n",
    "        \"\"\"\n",
    "    print(result.strip().replace(\"    \", \"\").replace(\"\\n\", \" \"))"
   ]
  }
 ],
 "metadata": {
  "kernelspec": {
   "display_name": "Python 3",
   "language": "python",
   "name": "python3"
  },
  "language_info": {
   "codemirror_mode": {
    "name": "ipython",
    "version": 3
   },
   "file_extension": ".py",
   "mimetype": "text/x-python",
   "name": "python",
   "nbconvert_exporter": "python",
   "pygments_lexer": "ipython3",
   "version": "3.11.3"
  },
  "orig_nbformat": 4
 },
 "nbformat": 4,
 "nbformat_minor": 2
}

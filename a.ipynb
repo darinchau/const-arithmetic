{
 "cells": [
  {
   "cell_type": "code",
   "execution_count": 45,
   "metadata": {},
   "outputs": [],
   "source": [
    "def long_division(h, k):\n",
    "    if k == 0:\n",
    "        raise ValueError(\"Divisor cannot be zero.\")\n",
    "\n",
    "    # Convert the dividend and divisor to strings\n",
    "    dividend_str = f\"{h:X}\".rjust(8, '0')\n",
    "\n",
    "    # Initialize variables\n",
    "    quotient = 0\n",
    "    remainder = 0\n",
    "    result = \"\"\n",
    "\n",
    "    # Perform long division\n",
    "    for idx in range(8):\n",
    "        current_digit = int(dividend_str[idx], base = 16)\n",
    "        r = (remainder * 16) + current_digit\n",
    "\n",
    "        if r < k:\n",
    "            result += \"0\"\n",
    "            remainder = r\n",
    "        else:\n",
    "            quotient = r // k\n",
    "            result += f\"{quotient:X}\"\n",
    "            remainder = r % k\n",
    "\n",
    "    return int(result, base=16), remainder"
   ]
  },
  {
   "cell_type": "code",
   "execution_count": 46,
   "metadata": {},
   "outputs": [],
   "source": [
    "import random\n",
    "for _ in range(100000):\n",
    "    dividend = random.randint(0, 100000)\n",
    "    divisor = random.randint(1, 100000)\n",
    "    quotient, remainder = long_division(dividend, divisor)\n",
    "    # print(dividend, divisor, quotient, remainder)\n",
    "    assert dividend // divisor == int(quotient)\n",
    "    assert dividend % divisor == int(remainder)"
   ]
  }
 ],
 "metadata": {
  "kernelspec": {
   "display_name": "Python 3",
   "language": "python",
   "name": "python3"
  },
  "language_info": {
   "codemirror_mode": {
    "name": "ipython",
    "version": 3
   },
   "file_extension": ".py",
   "mimetype": "text/x-python",
   "name": "python",
   "nbconvert_exporter": "python",
   "pygments_lexer": "ipython3",
   "version": "3.11.3"
  },
  "orig_nbformat": 4
 },
 "nbformat": 4,
 "nbformat_minor": 2
}

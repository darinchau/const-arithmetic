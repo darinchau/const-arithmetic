{
 "cells": [
  {
   "attachments": {},
   "cell_type": "markdown",
   "metadata": {},
   "source": [
    "This generates all the code in the library"
   ]
  },
  {
   "cell_type": "code",
   "execution_count": 10,
   "metadata": {},
   "outputs": [],
   "source": [
    "HEX = \"0123456789ABCDEF\" * 16"
   ]
  },
  {
   "cell_type": "code",
   "execution_count": null,
   "metadata": {},
   "outputs": [],
   "source": [
    "# Hex\n",
    "for i in range(16):\n",
    "    print(f\"/// This denotes the number {HEX[i]}\")\n",
    "    print(f\"pub struct _{HEX[i]};\")\n",
    "    print(f\"impl Hex for _{HEX[i]} {{ const NUMBER: u32 = {i}; }}\")\n",
    "    print()"
   ]
  },
  {
   "cell_type": "code",
   "execution_count": null,
   "metadata": {},
   "outputs": [],
   "source": [
    "# Hex equal\n",
    "print(\"/// This trait is the equal trait on hex numbers. False evaluates to _0 and true evaluates to _1\")\n",
    "print(\"pub trait HexEqual<H: Hex> { type Output: Hex; }\")\n",
    "for i in range(16):\n",
    "    for j in range(16):\n",
    "        if i == j:\n",
    "            print(f\"impl HexEqual<_{HEX[i]}> for _{HEX[j]} {{ type Output = _1; }}\")\n",
    "        else:\n",
    "            print(f\"impl HexEqual<_{HEX[i]}> for _{HEX[j]} {{ type Output = _0; }}\")"
   ]
  },
  {
   "cell_type": "code",
   "execution_count": null,
   "metadata": {},
   "outputs": [],
   "source": [
    "# Hex assert eq\n",
    "print(\"/// This trait is the equal trait on hex numbers with an assertion quality. False ones are simply not implemented\")\n",
    "print(\"pub trait HexAssertEqual<H: Hex> { }\")\n",
    "for i in range(16):\n",
    "    print(f\"impl HexAssertEqual<_{HEX[i]}> for _{HEX[i]} {{ }}\")"
   ]
  },
  {
   "cell_type": "code",
   "execution_count": null,
   "metadata": {},
   "outputs": [],
   "source": [
    "# Hex add 1\n",
    "print(\"/// This is an internal implementation of addition of two number\")\n",
    "print(\"pub trait HexAdd1<H: Hex> { type Output: Hex; type Carry: Hex; }\")\n",
    "for i in range(16):\n",
    "    for j in range(16):\n",
    "        print(f\"impl HexAdd1<_{HEX[i]}> for _{HEX[j]} {{ type Output = _{HEX[i + j]}; type Carry = _{HEX[(i+j)//16]}; }}\")"
   ]
  },
  {
   "cell_type": "code",
   "execution_count": null,
   "metadata": {},
   "outputs": [],
   "source": [
    "# Hex add 3\n",
    "print(\"/// This is an internal implementation of addition of three number\")\n",
    "print(\"pub trait HexAdd3<H1: Hex, H2: Hex> { type Output: Hex; type Carry: Hex; }\")\n",
    "for i in range(16):\n",
    "    for j in range(16):\n",
    "        rs = f\"_{HEX[i + j]}\"\n",
    "        cr = f\"_{HEX[(i+j)//16]}\"\n",
    "        print(f\"impl<H: Hex, R: Hex, C0: Hex, Cr: Hex, C_: Hex> HexAdd3<_{HEX[i]}, H> for _{HEX[j]} where H: HexAdd<{rs}, Output = R, Carry = C0>, C0: HexAdd<{cr}, Output = Cr, Carry = C_>, C_: HexAssertEqual<_0> {{ type Output = R; type Carry = Cr; }}\")"
   ]
  },
  {
   "cell_type": "code",
   "execution_count": null,
   "metadata": {},
   "outputs": [],
   "source": [
    "# Hex add 4 to 16\n",
    "\n",
    "for adder in range(4, 9):\n",
    "    h_where = \", \".join([f\"H{i}: Hex\" for i in range(1, adder)])\n",
    "    print(f\"/// This is an internal implementation of addition of {adder} number\")\n",
    "    print(f\"pub trait HexAdd{adder}<{h_where}> {{ type Output: Hex; type Carry: Hex; }}\")\n",
    "    for i in range(16):\n",
    "        h_generics = \", \".join([f\"H{i}\" for i in range(1, adder)])\n",
    "        h_generics_bound = \", \".join([f\"H{i}\" for i in range(2, adder)])\n",
    "        result = f\"\"\"\n",
    "impl<{h_generics}, R1, C1, C2, Result, Cr, C_> HexAdd{adder}<{h_generics}> for _{HEX[i]} where \n",
    "{h_where}, R1: Hex, Result: Hex, C1: Hex, C2: Hex, Cr: Hex, C_: Hex, \n",
    "H1: HexAdd{adder-1}<{h_generics_bound}, Output = R1, Carry = C1>, \n",
    "R1: HexAdd<_{HEX[i]}, Output = Result, Carry = C2>, \n",
    "C1: HexAdd<C2, Output = Cr, Carry = C_>, \n",
    "C_: HexAssertEqual<_0> \n",
    "{{ type Output = Result; type Carry = Cr; }}\"\"\"\n",
    "        result = result.replace(\"\\t\", \"\").replace(\"\\n\", \"\")\n",
    "        print(result)\n",
    "    print()"
   ]
  },
  {
   "cell_type": "code",
   "execution_count": null,
   "metadata": {},
   "outputs": [],
   "source": [
    "# Hex complement\n",
    "print(\"/// This represents 15 - x: the hexadecimal complement\")\n",
    "print(\"pub trait HexNot { type Output: Hex; }\")\n",
    "for i in range(16):\n",
    "    print(f\"\"\"impl HexNot for _{HEX[i]} {{ type Output = _{HEX[15-i]}; }}\"\"\")"
   ]
  },
  {
   "cell_type": "code",
   "execution_count": null,
   "metadata": {},
   "outputs": [],
   "source": [
    "# Hex multiply\n",
    "print(\"/// This is an internal implementation of multiplication of two hexadecimal\")\n",
    "print(\"pub trait HexMul<H: Hex> { type Output: Hex; type Carry: Hex; }\")\n",
    "for i in range(16):\n",
    "    for j in range(16):\n",
    "        rs = i * j\n",
    "        mods = (i * j) // 16\n",
    "        print(f\"impl HexMul<_{HEX[i]}> for _{HEX[j]} {{ type Output = _{HEX[rs]}; type Carry = _{HEX[mods]}; }}\")"
   ]
  },
  {
   "cell_type": "code",
   "execution_count": 39,
   "metadata": {},
   "outputs": [
    {
     "name": "stdout",
     "output_type": "stream",
     "text": [
      "let a0 = parse_integer!(1); assert_eq!(a0.number(), 1);\n",
      "let a1 = parse_integer!(7); assert_eq!(a1.number(), 7);\n",
      "let a2 = parse_integer!(9); assert_eq!(a2.number(), 9);\n",
      "let a3 = parse_integer!(15); assert_eq!(a3.number(), 15);\n",
      "let a4 = parse_integer!(26); assert_eq!(a4.number(), 26);\n",
      "let a5 = parse_integer!(36); assert_eq!(a5.number(), 36);\n",
      "let a6 = parse_integer!(47); assert_eq!(a6.number(), 47);\n",
      "let a7 = parse_integer!(52); assert_eq!(a7.number(), 52);\n",
      "let a8 = parse_integer!(61); assert_eq!(a8.number(), 61);\n",
      "let a9 = parse_integer!(67); assert_eq!(a9.number(), 67);\n",
      "let a10 = parse_integer!(73); assert_eq!(a10.number(), 73);\n",
      "let a11 = parse_integer!(121); assert_eq!(a11.number(), 121);\n",
      "let a12 = parse_integer!(172); assert_eq!(a12.number(), 172);\n",
      "let a13 = parse_integer!(174); assert_eq!(a13.number(), 174);\n",
      "let a14 = parse_integer!(752); assert_eq!(a14.number(), 752);\n",
      "let a15 = parse_integer!(1864); assert_eq!(a15.number(), 1864);\n",
      "let a16 = parse_integer!(1950); assert_eq!(a16.number(), 1950);\n",
      "let a17 = parse_integer!(2622); assert_eq!(a17.number(), 2622);\n",
      "let a18 = parse_integer!(3539); assert_eq!(a18.number(), 3539);\n",
      "let a19 = parse_integer!(9331); assert_eq!(a19.number(), 9331);\n",
      "let a20 = parse_integer!(9844); assert_eq!(a20.number(), 9844);\n",
      "let a21 = parse_integer!(10310); assert_eq!(a21.number(), 10310);\n",
      "let a22 = parse_integer!(14806); assert_eq!(a22.number(), 14806);\n",
      "let a23 = parse_integer!(71513); assert_eq!(a23.number(), 71513);\n",
      "let a24 = parse_integer!(98215); assert_eq!(a24.number(), 98215);\n",
      "let a25 = parse_integer!(110610); assert_eq!(a25.number(), 110610);\n",
      "let a26 = parse_integer!(213381); assert_eq!(a26.number(), 213381);\n",
      "let a27 = parse_integer!(222389); assert_eq!(a27.number(), 222389);\n",
      "let a28 = parse_integer!(259704); assert_eq!(a28.number(), 259704);\n",
      "let a29 = parse_integer!(283357); assert_eq!(a29.number(), 283357);\n",
      "let a30 = parse_integer!(370407); assert_eq!(a30.number(), 370407);\n",
      "let a31 = parse_integer!(467781); assert_eq!(a31.number(), 467781);\n",
      "let a32 = parse_integer!(6815395); assert_eq!(a32.number(), 6815395);\n",
      "let a33 = parse_integer!(8429107); assert_eq!(a33.number(), 8429107);\n",
      "let a34 = parse_integer!(12458533); assert_eq!(a34.number(), 12458533);\n",
      "let a35 = parse_integer!(14860314); assert_eq!(a35.number(), 14860314);\n",
      "let a36 = parse_integer!(26632764); assert_eq!(a36.number(), 26632764);\n",
      "let a37 = parse_integer!(53047285); assert_eq!(a37.number(), 53047285);\n",
      "let a38 = parse_integer!(59565971); assert_eq!(a38.number(), 59565971);\n",
      "let a39 = parse_integer!(88225129); assert_eq!(a39.number(), 88225129);\n",
      "let a40 = parse_integer!(88957215); assert_eq!(a40.number(), 88957215);\n",
      "let a41 = parse_integer!(244378648); assert_eq!(a41.number(), 244378648);\n",
      "let a42 = parse_integer!(257871831); assert_eq!(a42.number(), 257871831);\n",
      "let a43 = parse_integer!(339107381); assert_eq!(a43.number(), 339107381);\n",
      "let a44 = parse_integer!(1140984541); assert_eq!(a44.number(), 1140984541);\n",
      "let a45 = parse_integer!(1694336315); assert_eq!(a45.number(), 1694336315);\n",
      "let a46 = parse_integer!(1716949082); assert_eq!(a46.number(), 1716949082);\n",
      "let a47 = parse_integer!(2087948069); assert_eq!(a47.number(), 2087948069);\n",
      "let a48 = parse_integer!(2674236400); assert_eq!(a48.number(), 2674236400);\n",
      "let a49 = parse_integer!(2683652142); assert_eq!(a49.number(), 2683652142);\n"
     ]
    }
   ],
   "source": [
    "# Test cases for parsing\n",
    "import random\n",
    "random.seed(12345)\n",
    "a = set()\n",
    "while len(a) < 50:\n",
    "    r = random.random() * 32\n",
    "    r = int(2 ** r)\n",
    "    if r in a:\n",
    "        continue\n",
    "    a.add(r)\n",
    "for i, x in enumerate(sorted(a)):\n",
    "    print(f\"let a{i} = parse_integer!({x}); assert_eq!(a{i}.number(), {x});\")"
   ]
  },
  {
   "cell_type": "code",
   "execution_count": null,
   "metadata": {},
   "outputs": [],
   "source": [
    "# Test cases for addition\n",
    "import random\n",
    "random.seed(12345)\n",
    "a = set()\n",
    "while len(a) < 50:\n",
    "    r = int(2 ** (random.random() * 32))\n",
    "    s = int(2 ** (random.random() * 32))\n",
    "    if (r, s) in a:\n",
    "        continue\n",
    "    if r + s >= 2 ** 32:\n",
    "        continue\n",
    "    a.add((r, s))\n",
    "for i, (x, y) in enumerate(sorted(a, key=lambda x: x[0] + x[1])):\n",
    "    print(f\"let a{i}_0 = parse_integer!({x}); let a{i}_1 = parse_integer!({y}); let a{i}_2 = parse_integer!({x+y}); add_equal(&a{i}_0, &a{i}_1, &a{i}_2);\")"
   ]
  },
  {
   "cell_type": "code",
   "execution_count": null,
   "metadata": {},
   "outputs": [],
   "source": [
    "# Test cases for subtraction\n",
    "import random\n",
    "random.seed(12345)\n",
    "a = set()\n",
    "while len(a) < 50:\n",
    "    r = int(2 ** (random.random() * 32))\n",
    "    s = int(2 ** (random.random() * 32))\n",
    "    if (r, s) in a:\n",
    "        continue\n",
    "    if r > s:\n",
    "        r, s = s, r\n",
    "    a.add((r, s))\n",
    "for i, (x, y) in enumerate(sorted(a, key=lambda x: x[1] - x[0])):\n",
    "    print(f\"let a{i}_0 = parse_integer!({x}); let a{i}_1 = parse_integer!({y}); let a{i}_2 = parse_integer!({y - x}); sub_equal(&a{i}_0, &a{i}_1, &a{i}_2);\")"
   ]
  },
  {
   "cell_type": "code",
   "execution_count": 42,
   "metadata": {},
   "outputs": [
    {
     "name": "stdout",
     "output_type": "stream",
     "text": [
      "let a0_0 = parse_integer!(1); let a0_1 = parse_integer!(1); let a0_2 = parse_integer!(0); let a0_3 = parse_integer!(1); mul_equal(&a0_0,&a0_1, &a0_2, &a0_3);\n",
      "let a1_0 = parse_integer!(2); let a1_1 = parse_integer!(38); let a1_2 = parse_integer!(0); let a1_3 = parse_integer!(76); mul_equal(&a1_0,&a1_1, &a1_2, &a1_3);\n",
      "let a2_0 = parse_integer!(5); let a2_1 = parse_integer!(38); let a2_2 = parse_integer!(0); let a2_3 = parse_integer!(190); mul_equal(&a2_0,&a2_1, &a2_2, &a2_3);\n",
      "let a3_0 = parse_integer!(9); let a3_1 = parse_integer!(52); let a3_2 = parse_integer!(0); let a3_3 = parse_integer!(468); mul_equal(&a3_0,&a3_1, &a3_2, &a3_3);\n",
      "let a4_0 = parse_integer!(1); let a4_1 = parse_integer!(1950); let a4_2 = parse_integer!(0); let a4_3 = parse_integer!(1950); mul_equal(&a4_0,&a4_1, &a4_2, &a4_3);\n",
      "let a5_0 = parse_integer!(2); let a5_1 = parse_integer!(1314); let a5_2 = parse_integer!(0); let a5_3 = parse_integer!(2628); mul_equal(&a5_0,&a5_1, &a5_2, &a5_3);\n",
      "let a6_0 = parse_integer!(28); let a6_1 = parse_integer!(161); let a6_2 = parse_integer!(0); let a6_3 = parse_integer!(4508); mul_equal(&a6_0,&a6_1, &a6_2, &a6_3);\n",
      "let a7_0 = parse_integer!(1); let a7_1 = parse_integer!(10310); let a7_2 = parse_integer!(0); let a7_3 = parse_integer!(10310); mul_equal(&a7_0,&a7_1, &a7_2, &a7_3);\n",
      "let a8_0 = parse_integer!(37); let a8_1 = parse_integer!(598); let a8_2 = parse_integer!(0); let a8_3 = parse_integer!(22126); mul_equal(&a8_0,&a8_1, &a8_2, &a8_3);\n",
      "let a9_0 = parse_integer!(15); let a9_1 = parse_integer!(14806); let a9_2 = parse_integer!(0); let a9_3 = parse_integer!(222090); mul_equal(&a9_0,&a9_1, &a9_2, &a9_3);\n",
      "let a10_0 = parse_integer!(73); let a10_1 = parse_integer!(3539); let a10_2 = parse_integer!(0); let a10_3 = parse_integer!(258347); mul_equal(&a10_0,&a10_1, &a10_2, &a10_3);\n",
      "let a11_0 = parse_integer!(8); let a11_1 = parse_integer!(73494); let a11_2 = parse_integer!(0); let a11_3 = parse_integer!(587952); mul_equal(&a11_0,&a11_1, &a11_2, &a11_3);\n",
      "let a12_0 = parse_integer!(26); let a12_1 = parse_integer!(71513); let a12_2 = parse_integer!(0); let a12_3 = parse_integer!(1859338); mul_equal(&a12_0,&a12_1, &a12_2, &a12_3);\n",
      "let a13_0 = parse_integer!(3); let a13_1 = parse_integer!(1074568); let a13_2 = parse_integer!(0); let a13_3 = parse_integer!(3223704); mul_equal(&a13_0,&a13_1, &a13_2, &a13_3);\n",
      "let a14_0 = parse_integer!(60); let a14_1 = parse_integer!(60060); let a14_2 = parse_integer!(0); let a14_3 = parse_integer!(3603600); mul_equal(&a14_0,&a14_1, &a14_2, &a14_3);\n",
      "let a15_0 = parse_integer!(32); let a15_1 = parse_integer!(156133); let a15_2 = parse_integer!(0); let a15_3 = parse_integer!(4996256); mul_equal(&a15_0,&a15_1, &a15_2, &a15_3);\n",
      "let a16_0 = parse_integer!(36); let a16_1 = parse_integer!(283357); let a16_2 = parse_integer!(0); let a16_3 = parse_integer!(10200852); mul_equal(&a16_0,&a16_1, &a16_2, &a16_3);\n",
      "let a17_0 = parse_integer!(47); let a17_1 = parse_integer!(259704); let a17_2 = parse_integer!(0); let a17_3 = parse_integer!(12206088); mul_equal(&a17_0,&a17_1, &a17_2, &a17_3);\n",
      "let a18_0 = parse_integer!(174); let a18_1 = parse_integer!(110610); let a18_2 = parse_integer!(0); let a18_3 = parse_integer!(19246140); mul_equal(&a18_0,&a18_1, &a18_2, &a18_3);\n",
      "let a19_0 = parse_integer!(61); let a19_1 = parse_integer!(467781); let a19_2 = parse_integer!(0); let a19_3 = parse_integer!(28534641); mul_equal(&a19_0,&a19_1, &a19_2, &a19_3);\n",
      "let a20_0 = parse_integer!(5); let a20_1 = parse_integer!(7170654); let a20_2 = parse_integer!(0); let a20_3 = parse_integer!(35853270); mul_equal(&a20_0,&a20_1, &a20_2, &a20_3);\n",
      "let a21_0 = parse_integer!(2622); let a21_1 = parse_integer!(213381); let a21_2 = parse_integer!(0); let a21_3 = parse_integer!(559484982); mul_equal(&a21_0,&a21_1, &a21_2, &a21_3);\n",
      "let a22_0 = parse_integer!(67); let a22_1 = parse_integer!(8429107); let a22_2 = parse_integer!(0); let a22_3 = parse_integer!(564750169); mul_equal(&a22_0,&a22_1, &a22_2, &a22_3);\n",
      "let a23_0 = parse_integer!(1374); let a23_1 = parse_integer!(753292); let a23_2 = parse_integer!(0); let a23_3 = parse_integer!(1035023208); mul_equal(&a23_0,&a23_1, &a23_2, &a23_3);\n",
      "let a24_0 = parse_integer!(1); let a24_1 = parse_integer!(1140984541); let a24_2 = parse_integer!(0); let a24_3 = parse_integer!(1140984541); mul_equal(&a24_0,&a24_1, &a24_2, &a24_3);\n",
      "let a25_0 = parse_integer!(87); let a25_1 = parse_integer!(25489570); let a25_2 = parse_integer!(0); let a25_3 = parse_integer!(2217592590); mul_equal(&a25_0,&a25_1, &a25_2, &a25_3);\n",
      "let a26_0 = parse_integer!(172); let a26_1 = parse_integer!(59565971); let a26_2 = parse_integer!(2); let a26_3 = parse_integer!(1655412420); mul_equal(&a26_0,&a26_1, &a26_2, &a26_3);\n",
      "let a27_0 = parse_integer!(7); let a27_1 = parse_integer!(1694336315); let a27_2 = parse_integer!(2); let a27_3 = parse_integer!(3270419613); mul_equal(&a27_0,&a27_1, &a27_2, &a27_3);\n",
      "let a28_0 = parse_integer!(3487); let a28_1 = parse_integer!(3451034); let a28_2 = parse_integer!(2); let a28_3 = parse_integer!(3443820966); mul_equal(&a28_0,&a28_1, &a28_2, &a28_3);\n",
      "let a29_0 = parse_integer!(101254); let a29_1 = parse_integer!(149300); let a29_2 = parse_integer!(3); let a29_3 = parse_integer!(2232320312); mul_equal(&a29_0,&a29_1, &a29_2, &a29_3);\n",
      "let a30_0 = parse_integer!(121); let a30_1 = parse_integer!(257871831); let a30_2 = parse_integer!(7); let a30_3 = parse_integer!(1137720479); mul_equal(&a30_0,&a30_1, &a30_2, &a30_3);\n",
      "let a31_0 = parse_integer!(752); let a31_1 = parse_integer!(88957215); let a31_2 = parse_integer!(15); let a31_3 = parse_integer!(2471316240); mul_equal(&a31_0,&a31_1, &a31_2, &a31_3);\n",
      "let a32_0 = parse_integer!(8171); let a32_1 = parse_integer!(41153307); let a32_2 = parse_integer!(78); let a32_3 = parse_integer!(1256222409); mul_equal(&a32_0,&a32_1, &a32_2, &a32_3);\n",
      "let a33_0 = parse_integer!(166); let a33_1 = parse_integer!(2078683947); let a33_2 = parse_integer!(80); let a33_3 = parse_integer!(1464151522); mul_equal(&a33_0,&a33_1, &a33_2, &a33_3);\n",
      "let a34_0 = parse_integer!(42785); let a34_1 = parse_integer!(21536501); let a34_2 = parse_integer!(214); let a34_3 = parse_integer!(2316193941); mul_equal(&a34_0,&a34_1, &a34_2, &a34_3);\n",
      "let a35_0 = parse_integer!(229799); let a35_1 = parse_integer!(5360660); let a35_2 = parse_integer!(286); let a35_3 = parse_integer!(3513660684); mul_equal(&a35_0,&a35_1, &a35_2, &a35_3);\n",
      "let a36_0 = parse_integer!(9844); let a36_1 = parse_integer!(339107381); let a36_2 = parse_integer!(777); let a36_3 = parse_integer!(983469572); mul_equal(&a36_0,&a36_1, &a36_2, &a36_3);\n",
      "let a37_0 = parse_integer!(1864); let a37_1 = parse_integer!(2087948069); let a37_2 = parse_integer!(906); let a37_3 = parse_integer!(694830440); mul_equal(&a37_0,&a37_1, &a37_2, &a37_3);\n",
      "let a38_0 = parse_integer!(370407); let a38_1 = parse_integer!(12458533); let a38_2 = parse_integer!(1074); let a38_3 = parse_integer!(1932957027); mul_equal(&a38_0,&a38_1, &a38_2, &a38_3);\n",
      "let a39_0 = parse_integer!(222389); let a39_1 = parse_integer!(53047285); let a39_2 = parse_integer!(2746); let a39_3 = parse_integer!(3152469049); mul_equal(&a39_0,&a39_1, &a39_2, &a39_3);\n",
      "let a40_0 = parse_integer!(11319); let a40_1 = parse_integer!(1498617499); let a40_2 = parse_integer!(3949); let a40_3 = parse_integer!(2025619277); mul_equal(&a40_0,&a40_1, &a40_2, &a40_3);\n",
      "let a41_0 = parse_integer!(9331); let a41_1 = parse_integer!(2674236400); let a41_2 = parse_integer!(5809); let a41_3 = parse_integer!(3834825936); mul_equal(&a41_0,&a41_1, &a41_2, &a41_3);\n",
      "let a42_0 = parse_integer!(711264); let a42_1 = parse_integer!(49154391); let a42_2 = parse_integer!(8140); let a42_3 = parse_integer!(714970784); mul_equal(&a42_0,&a42_1, &a42_2, &a42_3);\n",
      "let a43_0 = parse_integer!(98215); let a43_1 = parse_integer!(1716949082); let a43_2 = parse_integer!(39262); let a43_3 = parse_integer!(1148113078); mul_equal(&a43_0,&a43_1, &a43_2, &a43_3);\n",
      "let a44_0 = parse_integer!(6815395); let a44_1 = parse_integer!(88225129); let a44_2 = parse_integer!(139998); let a44_3 = parse_integer!(2271555547); mul_equal(&a44_0,&a44_1, &a44_2, &a44_3);\n",
      "let a45_0 = parse_integer!(27577502); let a45_1 = parse_integer!(39696924); let a45_2 = parse_integer!(254889); let a45_3 = parse_integer!(2081893704); mul_equal(&a45_0,&a45_1, &a45_2, &a45_3);\n",
      "let a46_0 = parse_integer!(26632764); let a46_1 = parse_integer!(244378648); let a46_2 = parse_integer!(1515373); let a46_3 = parse_integer!(1382581664); mul_equal(&a46_0,&a46_1, &a46_2, &a46_3);\n",
      "let a47_0 = parse_integer!(14860314); let a47_1 = parse_integer!(2683652142); let a47_2 = parse_integer!(9285265); let a47_3 = parse_integer!(3987199148); mul_equal(&a47_0,&a47_1, &a47_2, &a47_3);\n",
      "let a48_0 = parse_integer!(103895386); let a48_1 = parse_integer!(2964958777); let a48_2 = parse_integer!(71722440); let a48_3 = parse_integer!(2421180682); mul_equal(&a48_0,&a48_1, &a48_2, &a48_3);\n",
      "let a49_0 = parse_integer!(737585385); let a49_1 = parse_integer!(3810507542); let a49_2 = parse_integer!(654387910); let a49_3 = parse_integer!(63682310); mul_equal(&a49_0,&a49_1, &a49_2, &a49_3);\n"
     ]
    }
   ],
   "source": [
    "# Test cases for multiplication\n",
    "import random\n",
    "random.seed(12345)\n",
    "a = set()\n",
    "while len(a) < 50:\n",
    "    r = int(2 ** (random.random() * 32))\n",
    "    s = int(2 ** (random.random() * 32))\n",
    "    if (r, s) in a:\n",
    "        continue\n",
    "    if r > s:\n",
    "        r, s = s, r\n",
    "    a.add((r, s))\n",
    "for i, x in enumerate(sorted(a, key=lambda x: x[0] * x[1])):\n",
    "    rs = x[0] * x[1]\n",
    "    upper = rs // (2 ** 32)\n",
    "    lower = rs % (2 ** 32)\n",
    "    result = f\"\"\"\n",
    "        let a{i}_0 = parse_integer!({x[0]});\n",
    "        let a{i}_1 = parse_integer!({x[1]});\n",
    "        let a{i}_2 = parse_integer!({upper});\n",
    "        let a{i}_3 = parse_integer!({lower});\n",
    "        mul_equal(&a{i}_0,&a{i}_1, &a{i}_2, &a{i}_3);\n",
    "    \"\"\"\n",
    "    print(result.strip().replace(\"    \", \"\").replace(\"\\n\", \" \"))"
   ]
  }
 ],
 "metadata": {
  "kernelspec": {
   "display_name": "Python 3",
   "language": "python",
   "name": "python3"
  },
  "language_info": {
   "codemirror_mode": {
    "name": "ipython",
    "version": 3
   },
   "file_extension": ".py",
   "mimetype": "text/x-python",
   "name": "python",
   "nbconvert_exporter": "python",
   "pygments_lexer": "ipython3",
   "version": "3.11.3"
  },
  "orig_nbformat": 4
 },
 "nbformat": 4,
 "nbformat_minor": 2
}
